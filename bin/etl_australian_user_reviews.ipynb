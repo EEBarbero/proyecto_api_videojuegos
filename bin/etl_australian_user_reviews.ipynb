{
 "cells": [
  {
   "cell_type": "markdown",
   "metadata": {},
   "source": [
    "#Lectura del archivo \"australian_user_reviews.json\", transformaciones y grabación en formato csv"
   ]
  },
  {
   "cell_type": "code",
   "execution_count": 164,
   "metadata": {},
   "outputs": [],
   "source": [
    "import ast\n",
    "import pandas as pd"
   ]
  },
  {
   "cell_type": "code",
   "execution_count": 165,
   "metadata": {},
   "outputs": [
    {
     "data": {
      "text/html": [
       "<div>\n",
       "<style scoped>\n",
       "    .dataframe tbody tr th:only-of-type {\n",
       "        vertical-align: middle;\n",
       "    }\n",
       "\n",
       "    .dataframe tbody tr th {\n",
       "        vertical-align: top;\n",
       "    }\n",
       "\n",
       "    .dataframe thead th {\n",
       "        text-align: right;\n",
       "    }\n",
       "</style>\n",
       "<table border=\"1\" class=\"dataframe\">\n",
       "  <thead>\n",
       "    <tr style=\"text-align: right;\">\n",
       "      <th></th>\n",
       "      <th>user_id</th>\n",
       "      <th>user_url</th>\n",
       "      <th>reviews</th>\n",
       "    </tr>\n",
       "  </thead>\n",
       "  <tbody>\n",
       "    <tr>\n",
       "      <th>0</th>\n",
       "      <td>76561197970982479</td>\n",
       "      <td>http://steamcommunity.com/profiles/76561197970...</td>\n",
       "      <td>[{'funny': '', 'posted': 'Posted November 5, 2...</td>\n",
       "    </tr>\n",
       "    <tr>\n",
       "      <th>1</th>\n",
       "      <td>js41637</td>\n",
       "      <td>http://steamcommunity.com/id/js41637</td>\n",
       "      <td>[{'funny': '', 'posted': 'Posted June 24, 2014...</td>\n",
       "    </tr>\n",
       "    <tr>\n",
       "      <th>2</th>\n",
       "      <td>evcentric</td>\n",
       "      <td>http://steamcommunity.com/id/evcentric</td>\n",
       "      <td>[{'funny': '', 'posted': 'Posted February 3.',...</td>\n",
       "    </tr>\n",
       "  </tbody>\n",
       "</table>\n",
       "</div>"
      ],
      "text/plain": [
       "             user_id                                           user_url  \\\n",
       "0  76561197970982479  http://steamcommunity.com/profiles/76561197970...   \n",
       "1            js41637               http://steamcommunity.com/id/js41637   \n",
       "2          evcentric             http://steamcommunity.com/id/evcentric   \n",
       "\n",
       "                                             reviews  \n",
       "0  [{'funny': '', 'posted': 'Posted November 5, 2...  \n",
       "1  [{'funny': '', 'posted': 'Posted June 24, 2014...  \n",
       "2  [{'funny': '', 'posted': 'Posted February 3.',...  "
      ]
     },
     "execution_count": 165,
     "metadata": {},
     "output_type": "execute_result"
    }
   ],
   "source": [
    "# leemos el arhivo australian_user_reviews.json\n",
    "\n",
    "def leer_comentarios(arch):\n",
    "  #Función que lee los comentarios    \n",
    "  comentarios = []\n",
    "  for linea in arch.readlines():\n",
    "    comentarios.append(ast.literal_eval(linea))\n",
    "  return comentarios\n",
    "\n",
    "# Abrimos el archivo que contiene los comentarios\n",
    "with open(\"../data/australian_user_reviews.json\", \"r\", encoding= \"utf-8\") as arch:\n",
    "    # Leemos los comentarios del archivo y los ponemos en el dataframe\n",
    "    df_comentarios = pd.DataFrame(leer_comentarios(arch))\n",
    "\n",
    "# Cerramos el archivo\n",
    "arch.close()\n",
    "\n",
    "#Mostramos la cabecera del Dataframa\n",
    "df_comentarios.head(3)"
   ]
  },
  {
   "cell_type": "code",
   "execution_count": 166,
   "metadata": {},
   "outputs": [
    {
     "name": "stderr",
     "output_type": "stream",
     "text": [
      "C:\\Users\\Usuario\\AppData\\Local\\Temp\\ipykernel_5212\\784116747.py:6: FutureWarning: Returning a DataFrame from Series.apply when the supplied function returns a Series is deprecated and will be removed in a future version.\n",
      "  df_comentarios = pd.concat([df_comenExpan.drop(['reviews'], axis=1), df_comenExpan['reviews'].apply(pd.Series)], axis=1)\n"
     ]
    }
   ],
   "source": [
    "#Explotamos la columna \"reviews\" del dataframe en un nuevo dataframe.\n",
    "df_comenExpan = df_comentarios.explode('reviews')\n",
    "\n",
    "#Concatenamos el dataframe original con el nuevo dataframe creado\n",
    "# y elimina la columna \"reviews\" del dataframe concatenado\n",
    "df_comentarios = pd.concat([df_comenExpan.drop(['reviews'], axis=1), df_comenExpan['reviews'].apply(pd.Series)], axis=1)"
   ]
  },
  {
   "cell_type": "code",
   "execution_count": 167,
   "metadata": {},
   "outputs": [],
   "source": [
    "#Ponemos el user_id como índice\n",
    "df_comentarios = df_comentarios.set_index(\"user_id\")"
   ]
  },
  {
   "cell_type": "code",
   "execution_count": 168,
   "metadata": {},
   "outputs": [],
   "source": [
    "#Eliminamos una columan que está vacía\n",
    "df_comentarios.drop(df_comentarios.columns.values[8], axis=1, inplace=True)\n"
   ]
  },
  {
   "cell_type": "code",
   "execution_count": 169,
   "metadata": {},
   "outputs": [],
   "source": [
    "df_comentarios.fillna(\"\", inplace= True)"
   ]
  },
  {
   "cell_type": "code",
   "execution_count": 170,
   "metadata": {},
   "outputs": [],
   "source": [
    "from textblob import TextBlob\n",
    "from nltk.sentiment.vader import SentimentIntensityAnalyzer\n",
    "\n",
    "#Creamos una instancia para el analizador de sentimientos de Vader\n",
    "sentiment_analyzer = SentimentIntensityAnalyzer()\n",
    "\n",
    "def categoriza_sentimiento(texto):\n",
    "    #Función que clasifica los sentimientos en base al calculo \n",
    "    # del tono emocional de los comentarios y les asigna un valor de \n",
    "    # 0 (malo), 1 (neutral) o 2 (positivo)\n",
    "    retorno = 1 # Inicia una variable con el valor para la categoría de Neutro\n",
    "    if(len(texto) > 0):\n",
    "        sentimiento = sentiment_analyzer.polarity_scores(texto)[\"compound\"]\n",
    "        if(sentimiento >= 0.33):\n",
    "           retorno = 2 #Categoría de Positivo\n",
    "        elif(sentimiento <= -0.33):\n",
    "            retorno = 0 #Categoría de Negativo\n",
    "\n",
    "    return retorno\n",
    "\n",
    "df_comentarios[\"sentiment_analysis\"] = df_comentarios[\"review\"].apply(categoriza_sentimiento)"
   ]
  },
  {
   "cell_type": "code",
   "execution_count": 171,
   "metadata": {},
   "outputs": [],
   "source": [
    "#Eliminamos la columna review\n",
    "df_comentarios.drop([\"review\"], axis=1, inplace= True)"
   ]
  },
  {
   "cell_type": "code",
   "execution_count": 173,
   "metadata": {},
   "outputs": [],
   "source": [
    "#Grabamos el dataframe como archivo con formato csv\n",
    "df_comentarios.to_csv(\"../data/australian_user_reviews.csv\", index=False)"
   ]
  }
 ],
 "metadata": {
  "kernelspec": {
   "display_name": "Python 3",
   "language": "python",
   "name": "python3"
  },
  "language_info": {
   "codemirror_mode": {
    "name": "ipython",
    "version": 3
   },
   "file_extension": ".py",
   "mimetype": "text/x-python",
   "name": "python",
   "nbconvert_exporter": "python",
   "pygments_lexer": "ipython3",
   "version": "3.11.5"
  },
  "orig_nbformat": 4
 },
 "nbformat": 4,
 "nbformat_minor": 2
}
