{
 "cells": [
  {
   "cell_type": "markdown",
   "metadata": {},
   "source": [
    "### Carga de las librerías"
   ]
  },
  {
   "cell_type": "code",
   "execution_count": 25,
   "metadata": {},
   "outputs": [],
   "source": [
    "import pandas as pd\n",
    "import numpy as np\n",
    "\n",
    "import warnings\n",
    "warnings.filterwarnings(\"ignore\")"
   ]
  },
  {
   "cell_type": "markdown",
   "metadata": {},
   "source": [
    "### Carga de los datos"
   ]
  },
  {
   "cell_type": "code",
   "execution_count": 26,
   "metadata": {},
   "outputs": [],
   "source": [
    "df_BD = pd.DataFrame(pd.read_csv(r\"../data/redu_osg_mr.csv\"))\n",
    "#df_BD = pd.DataFrame(pd.read_csv(r\"../data/osg_api.csv\"))"
   ]
  },
  {
   "cell_type": "code",
   "execution_count": 27,
   "metadata": {},
   "outputs": [],
   "source": [
    "similitud_del_coseno = np.loadtxt(r\"../data/redu_osg_mr_sim_cos.txt\")"
   ]
  },
  {
   "cell_type": "code",
   "execution_count": 28,
   "metadata": {},
   "outputs": [],
   "source": [
    "indice = pd.DataFrame(pd.read_csv(r\"../data/redu_osg_mr_indice.csv\"))"
   ]
  },
  {
   "cell_type": "code",
   "execution_count": 29,
   "metadata": {},
   "outputs": [
    {
     "data": {
      "text/html": [
       "<div>\n",
       "<style scoped>\n",
       "    .dataframe tbody tr th:only-of-type {\n",
       "        vertical-align: middle;\n",
       "    }\n",
       "\n",
       "    .dataframe tbody tr th {\n",
       "        vertical-align: top;\n",
       "    }\n",
       "\n",
       "    .dataframe thead th {\n",
       "        text-align: right;\n",
       "    }\n",
       "</style>\n",
       "<table border=\"1\" class=\"dataframe\">\n",
       "  <thead>\n",
       "    <tr style=\"text-align: right;\">\n",
       "      <th></th>\n",
       "      <th>Unnamed: 0</th>\n",
       "      <th>genres</th>\n",
       "      <th>title</th>\n",
       "      <th>tags</th>\n",
       "      <th>specs</th>\n",
       "      <th>price</th>\n",
       "      <th>early_access</th>\n",
       "      <th>item_id</th>\n",
       "      <th>developer</th>\n",
       "      <th>anio_lanzamiento</th>\n",
       "    </tr>\n",
       "  </thead>\n",
       "  <tbody>\n",
       "    <tr>\n",
       "      <th>522</th>\n",
       "      <td>24765</td>\n",
       "      <td>action</td>\n",
       "      <td>Call of Duty®: Ghosts - Blunt Force Character ...</td>\n",
       "      <td>action</td>\n",
       "      <td>single-player,multi-player,co-op,downloadable ...</td>\n",
       "      <td>1.99</td>\n",
       "      <td>False</td>\n",
       "      <td>309870</td>\n",
       "      <td>Infinity Ward</td>\n",
       "      <td>2014</td>\n",
       "    </tr>\n",
       "    <tr>\n",
       "      <th>17</th>\n",
       "      <td>26965</td>\n",
       "      <td>rpg,indie</td>\n",
       "      <td>Avernum 6</td>\n",
       "      <td>rpg,indie,isometric,party-based rpg,turn-based...</td>\n",
       "      <td>single-player</td>\n",
       "      <td>4.99</td>\n",
       "      <td>False</td>\n",
       "      <td>206060</td>\n",
       "      <td>Spiderweb Software</td>\n",
       "      <td>2012</td>\n",
       "    </tr>\n",
       "    <tr>\n",
       "      <th>0</th>\n",
       "      <td>25295</td>\n",
       "      <td>adventure,indie</td>\n",
       "      <td>Moebius Soundtrack</td>\n",
       "      <td>adventure,indie</td>\n",
       "      <td>single-player,downloadable content</td>\n",
       "      <td>9.99</td>\n",
       "      <td>False</td>\n",
       "      <td>287550</td>\n",
       "      <td>Phoenix Online Studios</td>\n",
       "      <td>2014</td>\n",
       "    </tr>\n",
       "    <tr>\n",
       "      <th>648</th>\n",
       "      <td>11207</td>\n",
       "      <td>simulation</td>\n",
       "      <td>Pinball FX3 - Carnivals and Legends</td>\n",
       "      <td>simulation</td>\n",
       "      <td>single-player,multi-player,downloadable conten...</td>\n",
       "      <td>6.99</td>\n",
       "      <td>False</td>\n",
       "      <td>750060</td>\n",
       "      <td>Zen Studios</td>\n",
       "      <td>2017</td>\n",
       "    </tr>\n",
       "    <tr>\n",
       "      <th>735</th>\n",
       "      <td>19864</td>\n",
       "      <td>strategy</td>\n",
       "      <td>Hyperdevotion Noire: Ultimate Party Member “Ti...</td>\n",
       "      <td>strategy</td>\n",
       "      <td>single-player,downloadable content,full contro...</td>\n",
       "      <td>0.99</td>\n",
       "      <td>False</td>\n",
       "      <td>427005</td>\n",
       "      <td>Idea Factory,Compile Heart,Sting</td>\n",
       "      <td>2016</td>\n",
       "    </tr>\n",
       "  </tbody>\n",
       "</table>\n",
       "</div>"
      ],
      "text/plain": [
       "     Unnamed: 0           genres  \\\n",
       "522       24765           action   \n",
       "17        26965        rpg,indie   \n",
       "0         25295  adventure,indie   \n",
       "648       11207       simulation   \n",
       "735       19864         strategy   \n",
       "\n",
       "                                                 title  \\\n",
       "522  Call of Duty®: Ghosts - Blunt Force Character ...   \n",
       "17                                           Avernum 6   \n",
       "0                                   Moebius Soundtrack   \n",
       "648                Pinball FX3 - Carnivals and Legends   \n",
       "735  Hyperdevotion Noire: Ultimate Party Member “Ti...   \n",
       "\n",
       "                                                  tags  \\\n",
       "522                                             action   \n",
       "17   rpg,indie,isometric,party-based rpg,turn-based...   \n",
       "0                                      adventure,indie   \n",
       "648                                         simulation   \n",
       "735                                           strategy   \n",
       "\n",
       "                                                 specs price  early_access  \\\n",
       "522  single-player,multi-player,co-op,downloadable ...  1.99         False   \n",
       "17                                       single-player  4.99         False   \n",
       "0                   single-player,downloadable content  9.99         False   \n",
       "648  single-player,multi-player,downloadable conten...  6.99         False   \n",
       "735  single-player,downloadable content,full contro...  0.99         False   \n",
       "\n",
       "     item_id                         developer  anio_lanzamiento  \n",
       "522   309870                     Infinity Ward              2014  \n",
       "17    206060                Spiderweb Software              2012  \n",
       "0     287550            Phoenix Online Studios              2014  \n",
       "648   750060                       Zen Studios              2017  \n",
       "735   427005  Idea Factory,Compile Heart,Sting              2016  "
      ]
     },
     "execution_count": 29,
     "metadata": {},
     "output_type": "execute_result"
    }
   ],
   "source": [
    "df_BD.sample(5)"
   ]
  },
  {
   "cell_type": "code",
   "execution_count": 35,
   "metadata": {},
   "outputs": [],
   "source": [
    "def obtener_recomendaciones(item_id):\n",
    "\n",
    "    if (indice[indice[\"item_id\"] == item_id].empty):\n",
    "        retorno = {\"Error\":f\"No se dispone de datos para el juego {item_id}.\"}\n",
    "    else:\n",
    "        idx = indice[indice[\"item_id\"] == item_id][\"0\"].values[0]\n",
    "\n",
    "        puntajes_similares = list(enumerate(similitud_del_coseno[idx]))\n",
    "\n",
    "        puntajes_similares = sorted(puntajes_similares, key = lambda x: x[1], reverse=True)\n",
    "        \n",
    "        puntajes_similares = puntajes_similares[1:6]\n",
    "\n",
    "        juegos_indices = [int(i[0]) for i in puntajes_similares]\n",
    "\n",
    "        titulo = df_BD[df_BD[\"item_id\"] == item_id][\"title\"]\n",
    "\n",
    "        retorno = {f\"Recomendación de 5 juegos relacionados con ({item_id}) {titulo}\": [{f\"Recomendación {i+1}\": {\"Identificador\": df_BD[\"item_id\"].iloc[juegos_indices[i]], \"Título\": df_BD[\"title\"].iloc[juegos_indices[i]]}} for i in range(len(juegos_indices))]}\n",
    "        \n",
    "    return retorno"
   ]
  },
  {
   "cell_type": "code",
   "execution_count": 36,
   "metadata": {},
   "outputs": [
    {
     "data": {
      "text/plain": [
       "{\"Recomendación de 5 juegos relacionados con (659350) ['Cowboy Revenge']\": [{'Recomendación 1': {'Identificador': 704070,\n",
       "    'Título': 'Robots.io'}},\n",
       "  {'Recomendación 2': {'Identificador': 658420,\n",
       "    'Título': 'Agents of Aggro City Online'}},\n",
       "  {'Recomendación 3': {'Identificador': 354940,\n",
       "    'Título': 'HIS - Starter Pack'}},\n",
       "  {'Recomendación 4': {'Identificador': 573512,\n",
       "    'Título': 'MapleStory Cosmetic Pack'}},\n",
       "  {'Recomendación 5': {'Identificador': 474790,\n",
       "    'Título': \"BATTLE PIXEL'S SURVIVAL GROUND\"}}]}"
      ]
     },
     "execution_count": 36,
     "metadata": {},
     "output_type": "execute_result"
    }
   ],
   "source": [
    "# 579950 304650 271444 486770 659350 618320 381160 637801 679990 737280\n",
    "item_id = 659350\n",
    "obtener_recomendaciones(item_id)"
   ]
  },
  {
   "cell_type": "markdown",
   "metadata": {},
   "source": [
    "******"
   ]
  },
  {
   "cell_type": "code",
   "execution_count": null,
   "metadata": {},
   "outputs": [
    {
     "data": {
      "text/html": [
       "<div>\n",
       "<style scoped>\n",
       "    .dataframe tbody tr th:only-of-type {\n",
       "        vertical-align: middle;\n",
       "    }\n",
       "\n",
       "    .dataframe tbody tr th {\n",
       "        vertical-align: top;\n",
       "    }\n",
       "\n",
       "    .dataframe thead th {\n",
       "        text-align: right;\n",
       "    }\n",
       "</style>\n",
       "<table border=\"1\" class=\"dataframe\">\n",
       "  <thead>\n",
       "    <tr style=\"text-align: right;\">\n",
       "      <th></th>\n",
       "      <th>item_id</th>\n",
       "      <th>0</th>\n",
       "    </tr>\n",
       "  </thead>\n",
       "  <tbody>\n",
       "    <tr>\n",
       "      <th>357</th>\n",
       "      <td>454100</td>\n",
       "      <td>357</td>\n",
       "    </tr>\n",
       "    <tr>\n",
       "      <th>670</th>\n",
       "      <td>679770</td>\n",
       "      <td>670</td>\n",
       "    </tr>\n",
       "    <tr>\n",
       "      <th>779</th>\n",
       "      <td>414070</td>\n",
       "      <td>779</td>\n",
       "    </tr>\n",
       "    <tr>\n",
       "      <th>402</th>\n",
       "      <td>407800</td>\n",
       "      <td>402</td>\n",
       "    </tr>\n",
       "    <tr>\n",
       "      <th>301</th>\n",
       "      <td>206094</td>\n",
       "      <td>301</td>\n",
       "    </tr>\n",
       "    <tr>\n",
       "      <th>506</th>\n",
       "      <td>364900</td>\n",
       "      <td>506</td>\n",
       "    </tr>\n",
       "    <tr>\n",
       "      <th>10</th>\n",
       "      <td>297860</td>\n",
       "      <td>10</td>\n",
       "    </tr>\n",
       "    <tr>\n",
       "      <th>509</th>\n",
       "      <td>673320</td>\n",
       "      <td>509</td>\n",
       "    </tr>\n",
       "    <tr>\n",
       "      <th>461</th>\n",
       "      <td>434480</td>\n",
       "      <td>461</td>\n",
       "    </tr>\n",
       "    <tr>\n",
       "      <th>91</th>\n",
       "      <td>698355</td>\n",
       "      <td>91</td>\n",
       "    </tr>\n",
       "  </tbody>\n",
       "</table>\n",
       "</div>"
      ],
      "text/plain": [
       "     item_id    0\n",
       "357   454100  357\n",
       "670   679770  670\n",
       "779   414070  779\n",
       "402   407800  402\n",
       "301   206094  301\n",
       "506   364900  506\n",
       "10    297860   10\n",
       "509   673320  509\n",
       "461   434480  461\n",
       "91    698355   91"
      ]
     },
     "execution_count": 18,
     "metadata": {},
     "output_type": "execute_result"
    }
   ],
   "source": [
    "indice.sample(10)"
   ]
  }
 ],
 "metadata": {
  "kernelspec": {
   "display_name": "Python 3",
   "language": "python",
   "name": "python3"
  },
  "language_info": {
   "codemirror_mode": {
    "name": "ipython",
    "version": 3
   },
   "file_extension": ".py",
   "mimetype": "text/x-python",
   "name": "python",
   "nbconvert_exporter": "python",
   "pygments_lexer": "ipython3",
   "version": "3.11.5"
  },
  "orig_nbformat": 4
 },
 "nbformat": 4,
 "nbformat_minor": 2
}
