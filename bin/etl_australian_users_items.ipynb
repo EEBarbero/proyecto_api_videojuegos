{
 "cells": [
  {
   "cell_type": "code",
   "execution_count": 2,
   "metadata": {},
   "outputs": [],
   "source": [
    "# Importamos las librerías que usaremos\n",
    "import numpy as np\n",
    "import pandas as pd"
   ]
  },
  {
   "cell_type": "code",
   "execution_count": 3,
   "metadata": {},
   "outputs": [],
   "source": [
    "# Leemos el archivo tipo json y cargamos los registros en una \n",
    "# variable\n",
    "with open(\"../data/australian_users_items.json\", \"r\", encoding= \"utf-8\") as arch:\n",
    "    contenido = arch.readlines()\n",
    "    registros = [eval(linea.strip()) for linea in contenido]\n",
    "\n",
    "# Cerramos el archivo\n",
    "arch.close()\n",
    "\n",
    "# Eliminamos de memoria la variable arch que ya no usaremos\n",
    "del arch"
   ]
  },
  {
   "cell_type": "code",
   "execution_count": 4,
   "metadata": {},
   "outputs": [],
   "source": [
    "# Creamos el dataframe con la variable del archivo leido\n",
    "df_items = pd.DataFrame(registros)"
   ]
  },
  {
   "cell_type": "code",
   "execution_count": 5,
   "metadata": {},
   "outputs": [],
   "source": [
    "# expandimos el código json del campo \"items\" de la variable \n",
    "# que contiene los registros del archivo leido\n",
    "df_itemsExpan = pd.json_normalize(registros, record_path = 'items')"
   ]
  },
  {
   "cell_type": "code",
   "execution_count": 6,
   "metadata": {},
   "outputs": [],
   "source": [
    "# Eliminamos del Dataframe la columna items\n",
    "df_items.drop([\"items\"], axis=1, inplace=True)\n",
    "\n",
    "# Creamos un nuevo datafame concatenando en columnas \n",
    "# los 2 dataframes que teníamos para tener uno con todas las columnas\n",
    "df_aui = pd.concat([df_items, df_itemsExpan], axis=1)"
   ]
  },
  {
   "cell_type": "code",
   "execution_count": 7,
   "metadata": {},
   "outputs": [],
   "source": [
    "# Grabamos el dataframe en un archivo csv\n",
    "df_aui.to_csv(\"../data/australian_users_items.csv\", index=False)"
   ]
  }
 ],
 "metadata": {
  "kernelspec": {
   "display_name": "Python 3",
   "language": "python",
   "name": "python3"
  },
  "language_info": {
   "codemirror_mode": {
    "name": "ipython",
    "version": 3
   },
   "file_extension": ".py",
   "mimetype": "text/x-python",
   "name": "python",
   "nbconvert_exporter": "python",
   "pygments_lexer": "ipython3",
   "version": "3.11.5"
  },
  "orig_nbformat": 4
 },
 "nbformat": 4,
 "nbformat_minor": 2
}
