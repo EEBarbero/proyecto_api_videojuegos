{
 "cells": [
  {
   "cell_type": "code",
   "execution_count": 28,
   "metadata": {},
   "outputs": [],
   "source": [
    "# Importamos las librerías que usaremos\n",
    "import numpy as np\n",
    "import pandas as pd\n",
    "import json"
   ]
  },
  {
   "cell_type": "code",
   "execution_count": 29,
   "metadata": {},
   "outputs": [],
   "source": [
    "# Leemos el archivo tipo json y cargamos los juegos en una \n",
    "# variable\n",
    "with open(\"../data/output_steam_games.json\", \"r\", encoding= \"utf-8\") as arch:\n",
    "    contenido = arch.readlines()\n",
    "    juegos = [json.loads(linea) for linea in contenido]\n",
    "\n",
    "# Cerramos el archivo\n",
    "arch.close()\n",
    "\n",
    "# Eliminamos de memoria la variable arch que ya no usaremos\n",
    "del arch"
   ]
  },
  {
   "cell_type": "code",
   "execution_count": 30,
   "metadata": {},
   "outputs": [],
   "source": [
    "# Creamos el dataframe con la variable del archivo leido\n",
    "df_juegos = pd.DataFrame(juegos)"
   ]
  },
  {
   "cell_type": "code",
   "execution_count": 32,
   "metadata": {},
   "outputs": [],
   "source": [
    "# Grabamos el dataframe en un archivo csv\n",
    "df_juegos.to_csv(\"../data/output_steam_games.csv\", index=False)"
   ]
  }
 ],
 "metadata": {
  "kernelspec": {
   "display_name": "Python 3",
   "language": "python",
   "name": "python3"
  },
  "language_info": {
   "codemirror_mode": {
    "name": "ipython",
    "version": 3
   },
   "file_extension": ".py",
   "mimetype": "text/x-python",
   "name": "python",
   "nbconvert_exporter": "python",
   "pygments_lexer": "ipython3",
   "version": "3.11.5"
  },
  "orig_nbformat": 4
 },
 "nbformat": 4,
 "nbformat_minor": 2
}
