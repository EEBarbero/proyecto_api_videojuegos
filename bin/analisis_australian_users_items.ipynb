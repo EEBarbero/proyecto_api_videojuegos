{
 "cells": [
  {
   "cell_type": "markdown",
   "metadata": {},
   "source": [
    "### Carga de las librerías"
   ]
  },
  {
   "cell_type": "code",
   "execution_count": 65,
   "metadata": {},
   "outputs": [],
   "source": [
    "import numpy as np\n",
    "import pandas as pd\n",
    "import matplotlib.pyplot as plt\n",
    "import seaborn as sns\n",
    "import math\n",
    "\n",
    "import warnings\n",
    "warnings.filterwarnings(\"ignore\")"
   ]
  },
  {
   "cell_type": "markdown",
   "metadata": {},
   "source": [
    "### Carga de los datos y análisis preliminar"
   ]
  },
  {
   "cell_type": "code",
   "execution_count": 66,
   "metadata": {},
   "outputs": [
    {
     "data": {
      "text/html": [
       "<div>\n",
       "<style scoped>\n",
       "    .dataframe tbody tr th:only-of-type {\n",
       "        vertical-align: middle;\n",
       "    }\n",
       "\n",
       "    .dataframe tbody tr th {\n",
       "        vertical-align: top;\n",
       "    }\n",
       "\n",
       "    .dataframe thead th {\n",
       "        text-align: right;\n",
       "    }\n",
       "</style>\n",
       "<table border=\"1\" class=\"dataframe\">\n",
       "  <thead>\n",
       "    <tr style=\"text-align: right;\">\n",
       "      <th></th>\n",
       "      <th>user_id</th>\n",
       "      <th>items_count</th>\n",
       "      <th>steam_id</th>\n",
       "      <th>user_url</th>\n",
       "      <th>item_id</th>\n",
       "      <th>item_name</th>\n",
       "      <th>playtime_forever</th>\n",
       "      <th>playtime_2weeks</th>\n",
       "    </tr>\n",
       "  </thead>\n",
       "  <tbody>\n",
       "    <tr>\n",
       "      <th>1073761</th>\n",
       "      <td>NaN</td>\n",
       "      <td>NaN</td>\n",
       "      <td>NaN</td>\n",
       "      <td>NaN</td>\n",
       "      <td>2430</td>\n",
       "      <td>The Ship Tutorial</td>\n",
       "      <td>0</td>\n",
       "      <td>0</td>\n",
       "    </tr>\n",
       "    <tr>\n",
       "      <th>3334727</th>\n",
       "      <td>NaN</td>\n",
       "      <td>NaN</td>\n",
       "      <td>NaN</td>\n",
       "      <td>NaN</td>\n",
       "      <td>57300</td>\n",
       "      <td>Amnesia: The Dark Descent</td>\n",
       "      <td>1617</td>\n",
       "      <td>0</td>\n",
       "    </tr>\n",
       "    <tr>\n",
       "      <th>2973743</th>\n",
       "      <td>NaN</td>\n",
       "      <td>NaN</td>\n",
       "      <td>NaN</td>\n",
       "      <td>NaN</td>\n",
       "      <td>243470</td>\n",
       "      <td>Watch_Dogs</td>\n",
       "      <td>49</td>\n",
       "      <td>0</td>\n",
       "    </tr>\n",
       "    <tr>\n",
       "      <th>3464583</th>\n",
       "      <td>NaN</td>\n",
       "      <td>NaN</td>\n",
       "      <td>NaN</td>\n",
       "      <td>NaN</td>\n",
       "      <td>291550</td>\n",
       "      <td>Brawlhalla</td>\n",
       "      <td>89</td>\n",
       "      <td>0</td>\n",
       "    </tr>\n",
       "    <tr>\n",
       "      <th>684539</th>\n",
       "      <td>NaN</td>\n",
       "      <td>NaN</td>\n",
       "      <td>NaN</td>\n",
       "      <td>NaN</td>\n",
       "      <td>91200</td>\n",
       "      <td>Anomaly Warzone Earth</td>\n",
       "      <td>0</td>\n",
       "      <td>0</td>\n",
       "    </tr>\n",
       "  </tbody>\n",
       "</table>\n",
       "</div>"
      ],
      "text/plain": [
       "        user_id  items_count  steam_id user_url  item_id  \\\n",
       "1073761     NaN          NaN       NaN      NaN     2430   \n",
       "3334727     NaN          NaN       NaN      NaN    57300   \n",
       "2973743     NaN          NaN       NaN      NaN   243470   \n",
       "3464583     NaN          NaN       NaN      NaN   291550   \n",
       "684539      NaN          NaN       NaN      NaN    91200   \n",
       "\n",
       "                         item_name  playtime_forever  playtime_2weeks  \n",
       "1073761          The Ship Tutorial                 0                0  \n",
       "3334727  Amnesia: The Dark Descent              1617                0  \n",
       "2973743                 Watch_Dogs                49                0  \n",
       "3464583                 Brawlhalla                89                0  \n",
       "684539       Anomaly Warzone Earth                 0                0  "
      ]
     },
     "execution_count": 66,
     "metadata": {},
     "output_type": "execute_result"
    }
   ],
   "source": [
    "df_DB = pd.DataFrame(pd.read_csv(r\"../data/australian_users_items.csv\"))\n",
    "df_DB.sample(5)"
   ]
  },
  {
   "cell_type": "code",
   "execution_count": 67,
   "metadata": {},
   "outputs": [
    {
     "name": "stdout",
     "output_type": "stream",
     "text": [
      "<class 'pandas.core.frame.DataFrame'>\n",
      "RangeIndex: 5153209 entries, 0 to 5153208\n",
      "Data columns (total 8 columns):\n",
      " #   Column            Dtype  \n",
      "---  ------            -----  \n",
      " 0   user_id           object \n",
      " 1   items_count       float64\n",
      " 2   steam_id          float64\n",
      " 3   user_url          object \n",
      " 4   item_id           int64  \n",
      " 5   item_name         object \n",
      " 6   playtime_forever  int64  \n",
      " 7   playtime_2weeks   int64  \n",
      "dtypes: float64(2), int64(3), object(3)\n",
      "memory usage: 314.5+ MB\n"
     ]
    }
   ],
   "source": [
    "df_DB.info()"
   ]
  },
  {
   "cell_type": "code",
   "execution_count": 68,
   "metadata": {},
   "outputs": [
    {
     "data": {
      "text/html": [
       "<div>\n",
       "<style scoped>\n",
       "    .dataframe tbody tr th:only-of-type {\n",
       "        vertical-align: middle;\n",
       "    }\n",
       "\n",
       "    .dataframe tbody tr th {\n",
       "        vertical-align: top;\n",
       "    }\n",
       "\n",
       "    .dataframe thead th {\n",
       "        text-align: right;\n",
       "    }\n",
       "</style>\n",
       "<table border=\"1\" class=\"dataframe\">\n",
       "  <thead>\n",
       "    <tr style=\"text-align: right;\">\n",
       "      <th></th>\n",
       "      <th>user_id</th>\n",
       "      <th>items_count</th>\n",
       "      <th>steam_id</th>\n",
       "      <th>user_url</th>\n",
       "      <th>item_id</th>\n",
       "      <th>item_name</th>\n",
       "      <th>playtime_forever</th>\n",
       "      <th>playtime_2weeks</th>\n",
       "    </tr>\n",
       "  </thead>\n",
       "  <tbody>\n",
       "    <tr>\n",
       "      <th>64290</th>\n",
       "      <td>76561198068785086</td>\n",
       "      <td>72.0</td>\n",
       "      <td>7.656120e+16</td>\n",
       "      <td>http://steamcommunity.com/profiles/76561198068...</td>\n",
       "      <td>204360</td>\n",
       "      <td>Castle Crashers</td>\n",
       "      <td>170</td>\n",
       "      <td>0</td>\n",
       "    </tr>\n",
       "    <tr>\n",
       "      <th>33819</th>\n",
       "      <td>agentmccoy</td>\n",
       "      <td>0.0</td>\n",
       "      <td>7.656120e+16</td>\n",
       "      <td>http://steamcommunity.com/id/agentmccoy</td>\n",
       "      <td>219540</td>\n",
       "      <td>Arma 2: Operation Arrowhead Beta (Obsolete)</td>\n",
       "      <td>0</td>\n",
       "      <td>0</td>\n",
       "    </tr>\n",
       "    <tr>\n",
       "      <th>34171</th>\n",
       "      <td>76561198087546697</td>\n",
       "      <td>48.0</td>\n",
       "      <td>7.656120e+16</td>\n",
       "      <td>http://steamcommunity.com/profiles/76561198087...</td>\n",
       "      <td>359320</td>\n",
       "      <td>Elite Dangerous</td>\n",
       "      <td>2522</td>\n",
       "      <td>0</td>\n",
       "    </tr>\n",
       "    <tr>\n",
       "      <th>60090</th>\n",
       "      <td>knxd12345</td>\n",
       "      <td>0.0</td>\n",
       "      <td>7.656120e+16</td>\n",
       "      <td>http://steamcommunity.com/id/knxd12345</td>\n",
       "      <td>4000</td>\n",
       "      <td>Garry's Mod</td>\n",
       "      <td>45446</td>\n",
       "      <td>0</td>\n",
       "    </tr>\n",
       "    <tr>\n",
       "      <th>51326</th>\n",
       "      <td>76561198044048582</td>\n",
       "      <td>1.0</td>\n",
       "      <td>7.656120e+16</td>\n",
       "      <td>http://steamcommunity.com/profiles/76561198044...</td>\n",
       "      <td>220240</td>\n",
       "      <td>Far Cry® 3</td>\n",
       "      <td>2316</td>\n",
       "      <td>0</td>\n",
       "    </tr>\n",
       "  </tbody>\n",
       "</table>\n",
       "</div>"
      ],
      "text/plain": [
       "                 user_id  items_count      steam_id  \\\n",
       "64290  76561198068785086         72.0  7.656120e+16   \n",
       "33819         agentmccoy          0.0  7.656120e+16   \n",
       "34171  76561198087546697         48.0  7.656120e+16   \n",
       "60090          knxd12345          0.0  7.656120e+16   \n",
       "51326  76561198044048582          1.0  7.656120e+16   \n",
       "\n",
       "                                                user_url  item_id  \\\n",
       "64290  http://steamcommunity.com/profiles/76561198068...   204360   \n",
       "33819            http://steamcommunity.com/id/agentmccoy   219540   \n",
       "34171  http://steamcommunity.com/profiles/76561198087...   359320   \n",
       "60090             http://steamcommunity.com/id/knxd12345     4000   \n",
       "51326  http://steamcommunity.com/profiles/76561198044...   220240   \n",
       "\n",
       "                                         item_name  playtime_forever  \\\n",
       "64290                              Castle Crashers               170   \n",
       "33819  Arma 2: Operation Arrowhead Beta (Obsolete)                 0   \n",
       "34171                              Elite Dangerous              2522   \n",
       "60090                                  Garry's Mod             45446   \n",
       "51326                                   Far Cry® 3              2316   \n",
       "\n",
       "       playtime_2weeks  \n",
       "64290                0  \n",
       "33819                0  \n",
       "34171                0  \n",
       "60090                0  \n",
       "51326                0  "
      ]
     },
     "execution_count": 68,
     "metadata": {},
     "output_type": "execute_result"
    }
   ],
   "source": [
    "df_DB[df_DB[\"user_id\"].notna()].sample(5)"
   ]
  },
  {
   "cell_type": "code",
   "execution_count": 69,
   "metadata": {},
   "outputs": [
    {
     "name": "stdout",
     "output_type": "stream",
     "text": [
      "<class 'pandas.core.frame.DataFrame'>\n",
      "Index: 88310 entries, 0 to 88309\n",
      "Data columns (total 8 columns):\n",
      " #   Column            Non-Null Count  Dtype  \n",
      "---  ------            --------------  -----  \n",
      " 0   user_id           88310 non-null  object \n",
      " 1   items_count       88310 non-null  float64\n",
      " 2   steam_id          88310 non-null  float64\n",
      " 3   user_url          88310 non-null  object \n",
      " 4   item_id           88310 non-null  int64  \n",
      " 5   item_name         88310 non-null  object \n",
      " 6   playtime_forever  88310 non-null  int64  \n",
      " 7   playtime_2weeks   88310 non-null  int64  \n",
      "dtypes: float64(2), int64(3), object(3)\n",
      "memory usage: 6.1+ MB\n"
     ]
    }
   ],
   "source": [
    "df_DB[df_DB[\"user_id\"].notna()].info()"
   ]
  },
  {
   "cell_type": "code",
   "execution_count": 70,
   "metadata": {},
   "outputs": [
    {
     "data": {
      "text/html": [
       "<div>\n",
       "<style scoped>\n",
       "    .dataframe tbody tr th:only-of-type {\n",
       "        vertical-align: middle;\n",
       "    }\n",
       "\n",
       "    .dataframe tbody tr th {\n",
       "        vertical-align: top;\n",
       "    }\n",
       "\n",
       "    .dataframe thead th {\n",
       "        text-align: right;\n",
       "    }\n",
       "</style>\n",
       "<table border=\"1\" class=\"dataframe\">\n",
       "  <thead>\n",
       "    <tr style=\"text-align: right;\">\n",
       "      <th></th>\n",
       "      <th>user_id</th>\n",
       "      <th>items_count</th>\n",
       "      <th>steam_id</th>\n",
       "      <th>user_url</th>\n",
       "      <th>item_id</th>\n",
       "      <th>item_name</th>\n",
       "      <th>playtime_forever</th>\n",
       "      <th>playtime_2weeks</th>\n",
       "    </tr>\n",
       "  </thead>\n",
       "  <tbody>\n",
       "    <tr>\n",
       "      <th>1951885</th>\n",
       "      <td>NaN</td>\n",
       "      <td>NaN</td>\n",
       "      <td>NaN</td>\n",
       "      <td>NaN</td>\n",
       "      <td>272890</td>\n",
       "      <td>Vertiginous Golf</td>\n",
       "      <td>0</td>\n",
       "      <td>0</td>\n",
       "    </tr>\n",
       "    <tr>\n",
       "      <th>3845308</th>\n",
       "      <td>NaN</td>\n",
       "      <td>NaN</td>\n",
       "      <td>NaN</td>\n",
       "      <td>NaN</td>\n",
       "      <td>322330</td>\n",
       "      <td>Don't Starve Together</td>\n",
       "      <td>0</td>\n",
       "      <td>0</td>\n",
       "    </tr>\n",
       "    <tr>\n",
       "      <th>2690348</th>\n",
       "      <td>NaN</td>\n",
       "      <td>NaN</td>\n",
       "      <td>NaN</td>\n",
       "      <td>NaN</td>\n",
       "      <td>269390</td>\n",
       "      <td>Dethroned!</td>\n",
       "      <td>2</td>\n",
       "      <td>0</td>\n",
       "    </tr>\n",
       "    <tr>\n",
       "      <th>891592</th>\n",
       "      <td>NaN</td>\n",
       "      <td>NaN</td>\n",
       "      <td>NaN</td>\n",
       "      <td>NaN</td>\n",
       "      <td>385730</td>\n",
       "      <td>WWE 2K16</td>\n",
       "      <td>77</td>\n",
       "      <td>0</td>\n",
       "    </tr>\n",
       "    <tr>\n",
       "      <th>1949622</th>\n",
       "      <td>NaN</td>\n",
       "      <td>NaN</td>\n",
       "      <td>NaN</td>\n",
       "      <td>NaN</td>\n",
       "      <td>24010</td>\n",
       "      <td>Train Simulator</td>\n",
       "      <td>34</td>\n",
       "      <td>0</td>\n",
       "    </tr>\n",
       "  </tbody>\n",
       "</table>\n",
       "</div>"
      ],
      "text/plain": [
       "        user_id  items_count  steam_id user_url  item_id  \\\n",
       "1951885     NaN          NaN       NaN      NaN   272890   \n",
       "3845308     NaN          NaN       NaN      NaN   322330   \n",
       "2690348     NaN          NaN       NaN      NaN   269390   \n",
       "891592      NaN          NaN       NaN      NaN   385730   \n",
       "1949622     NaN          NaN       NaN      NaN    24010   \n",
       "\n",
       "                     item_name  playtime_forever  playtime_2weeks  \n",
       "1951885       Vertiginous Golf                 0                0  \n",
       "3845308  Don't Starve Together                 0                0  \n",
       "2690348             Dethroned!                 2                0  \n",
       "891592                WWE 2K16                77                0  \n",
       "1949622        Train Simulator                34                0  "
      ]
     },
     "execution_count": 70,
     "metadata": {},
     "output_type": "execute_result"
    }
   ],
   "source": [
    "df_DB[df_DB[\"user_id\"].isna()].sample(5)"
   ]
  },
  {
   "cell_type": "code",
   "execution_count": 71,
   "metadata": {},
   "outputs": [
    {
     "name": "stdout",
     "output_type": "stream",
     "text": [
      "<class 'pandas.core.frame.DataFrame'>\n",
      "Index: 5064899 entries, 88310 to 5153208\n",
      "Data columns (total 8 columns):\n",
      " #   Column            Dtype  \n",
      "---  ------            -----  \n",
      " 0   user_id           object \n",
      " 1   items_count       float64\n",
      " 2   steam_id          float64\n",
      " 3   user_url          object \n",
      " 4   item_id           int64  \n",
      " 5   item_name         object \n",
      " 6   playtime_forever  int64  \n",
      " 7   playtime_2weeks   int64  \n",
      "dtypes: float64(2), int64(3), object(3)\n",
      "memory usage: 347.8+ MB\n"
     ]
    }
   ],
   "source": [
    "df_DB[df_DB[\"user_id\"].isna()].info()"
   ]
  },
  {
   "cell_type": "code",
   "execution_count": 72,
   "metadata": {},
   "outputs": [
    {
     "data": {
      "text/plain": [
       "user_id             5064899\n",
       "items_count         5064899\n",
       "steam_id            5064899\n",
       "user_url            5064899\n",
       "item_id                   0\n",
       "item_name                 0\n",
       "playtime_forever          0\n",
       "playtime_2weeks           0\n",
       "dtype: int64"
      ]
     },
     "execution_count": 72,
     "metadata": {},
     "output_type": "execute_result"
    }
   ],
   "source": [
    "df_DB[df_DB[\"user_id\"].isna()].isna().sum()"
   ]
  },
  {
   "cell_type": "markdown",
   "metadata": {},
   "source": [
    "Propongo una limpieza primaria en la que inicialmente, aún antes del análisis de valores faltantes se eliminen filas y columnas que por su elevada incidencia (sobre 5.153.209 registros que tiene el dataset, 5.064.899 son nulos), determinada por registros sin datos útiles para este análisis.\n",
    "\n",
    "Asimismo, ya podemos determinar algunas columas que sabemos no son de utilidad para las consultas propuestas, incluyendo los sistemas de recomendación.\n",
    "\n",
    "Las filas en las que el \"campo user_id\" tienen el valor NaN, coindiden con las que tienen valores nulos de las columnas \"items_count\", \"steam_id\" y \"user_url\", por lo que si bien podemos inferir que podrían ser usuarios que juegan como anónimos (por ejemplo en línea), son datos que para este trabajo carecen de significado, por ello se decide <b><i>eliminar los registros con valores NaN en el campo \"<u>user_id</u>\"</i></b>.\n",
    "\n",
    "Sobre la columna \"items_count\", no conocemos qué datos contiene, ya que no se encuentra en el diccionario de datos y no se puede inferir su contenido por el nombre de la columna ni por los datos que contiene. Se decide <b><i>eliminar la columna \"<u>items_count</u>\"</i></b>.\n",
    "\n",
    "Asimismo no nos son de utilidad  las columnas \"steam_id\", \"user_url\" \"item_name\" y \"playtime_2weeks\". Se decide <b><i>eliminar las columnas \"<u>steam_id</u>\", \"<u>user_url</u>\", \"<u>item_name</u>\" y \"<u>playtime_2weeks</u>\"</i></b>.\n",
    "\n",
    "\n",
    "Sobre la información subyacente a las eliminaciones planteadas podemos analizar que nuestros datos, vemos que sólo quedan los ids para vincular las horas jugadas con items y con los reviews de los usuarios."
   ]
  },
  {
   "cell_type": "markdown",
   "metadata": {},
   "source": [
    "### Poceso de transformación derivado del análisis preliminar"
   ]
  },
  {
   "cell_type": "code",
   "execution_count": 73,
   "metadata": {},
   "outputs": [],
   "source": [
    "# Eliminar los registros con valores NaN en el campo user_id\n",
    "filtro = df_DB[df_DB.user_id.isnull()].index\n",
    "df_DB.drop(filtro, inplace=True)\n",
    "df_DB.reset_index(inplace=True)"
   ]
  },
  {
   "cell_type": "code",
   "execution_count": 74,
   "metadata": {},
   "outputs": [],
   "source": [
    "# Eliminar las columnas items_count, steam_id, user_url, item_name y playtime_2weeks\n",
    "\n",
    "# Creo una variable con los nombres de la columas a eliminar\n",
    "columnasEliminar = [\"index\",\"items_count\", \"steam_id\", \"user_url\", \"item_name\", \"playtime_2weeks\"]\n",
    "\n",
    "# Elimino las columnas\n",
    "df_DB.drop(columnasEliminar, axis=1, inplace=True)"
   ]
  },
  {
   "cell_type": "markdown",
   "metadata": {},
   "source": [
    "### Análisis de valores faltantes"
   ]
  },
  {
   "cell_type": "code",
   "execution_count": 75,
   "metadata": {},
   "outputs": [
    {
     "data": {
      "text/plain": [
       "user_id             0\n",
       "item_id             0\n",
       "playtime_forever    0\n",
       "dtype: int64"
      ]
     },
     "execution_count": 75,
     "metadata": {},
     "output_type": "execute_result"
    }
   ],
   "source": [
    "df_DB.isna().sum()"
   ]
  },
  {
   "cell_type": "code",
   "execution_count": 76,
   "metadata": {},
   "outputs": [
    {
     "data": {
      "text/plain": [
       "Text(0.5, 1.0, 'Valores Nulos')"
      ]
     },
     "execution_count": 76,
     "metadata": {},
     "output_type": "execute_result"
    },
    {
     "data": {
      "image/png": "[encoded data removed]",
      "text/plain": [
       "<Figure size 2500x1000 with 3 Axes>"
      ]
     },
     "metadata": {},
     "output_type": "display_data"
    }
   ],
   "source": [
    "# Uso missigno para analizar datos perdidos\n",
    "import missingno\n",
    "#graficamos los registros válidos\n",
    "missingno.bar(df_DB, color=\"blue\")\n",
    "plt.title(\"Valores Nulos\", fontsize=25)"
   ]
  },
  {
   "cell_type": "markdown",
   "metadata": {},
   "source": [
    "Con las transformaciones preliminares no subsisten valores faltantes."
   ]
  },
  {
   "cell_type": "markdown",
   "metadata": {},
   "source": [
    "### Análisis y ajustes adicionales"
   ]
  },
  {
   "cell_type": "code",
   "execution_count": 77,
   "metadata": {},
   "outputs": [
    {
     "name": "stdout",
     "output_type": "stream",
     "text": [
      "<class 'pandas.core.frame.DataFrame'>\n",
      "RangeIndex: 88310 entries, 0 to 88309\n",
      "Data columns (total 3 columns):\n",
      " #   Column            Non-Null Count  Dtype \n",
      "---  ------            --------------  ----- \n",
      " 0   user_id           88310 non-null  object\n",
      " 1   item_id           88310 non-null  int64 \n",
      " 2   playtime_forever  88310 non-null  int64 \n",
      "dtypes: int64(2), object(1)\n",
      "memory usage: 2.0+ MB\n"
     ]
    }
   ],
   "source": [
    "df_DB.info()"
   ]
  },
  {
   "cell_type": "markdown",
   "metadata": {},
   "source": [
    "Se deben modificar los tipos de datos de las columnas user_id a tipo texto, y las de item_id y playtime_forever a valores enteros."
   ]
  },
  {
   "cell_type": "code",
   "execution_count": 78,
   "metadata": {},
   "outputs": [],
   "source": [
    "df_DB[\"user_id\"] = df_DB[\"user_id\"].astype(\"str\")\n",
    "df_DB[\"item_id\"] = df_DB[\"item_id\"].astype(\"int\")\n",
    "df_DB[\"playtime_forever\"] = df_DB[\"playtime_forever\"].astype(\"int\")"
   ]
  },
  {
   "cell_type": "markdown",
   "metadata": {},
   "source": [
    "### Análisis de distribución de los datos"
   ]
  },
  {
   "cell_type": "code",
   "execution_count": 79,
   "metadata": {},
   "outputs": [
    {
     "data": {
      "text/html": [
       "<div>\n",
       "<style scoped>\n",
       "    .dataframe tbody tr th:only-of-type {\n",
       "        vertical-align: middle;\n",
       "    }\n",
       "\n",
       "    .dataframe tbody tr th {\n",
       "        vertical-align: top;\n",
       "    }\n",
       "\n",
       "    .dataframe thead th {\n",
       "        text-align: right;\n",
       "    }\n",
       "</style>\n",
       "<table border=\"1\" class=\"dataframe\">\n",
       "  <thead>\n",
       "    <tr style=\"text-align: right;\">\n",
       "      <th></th>\n",
       "      <th>Horas Jugadas</th>\n",
       "      <th>Porcentaje</th>\n",
       "    </tr>\n",
       "    <tr>\n",
       "      <th>playtime_forever</th>\n",
       "      <th></th>\n",
       "      <th></th>\n",
       "    </tr>\n",
       "  </thead>\n",
       "  <tbody>\n",
       "    <tr>\n",
       "      <th>0</th>\n",
       "      <td>28414</td>\n",
       "      <td>32.18</td>\n",
       "    </tr>\n",
       "    <tr>\n",
       "      <th>1</th>\n",
       "      <td>1861</td>\n",
       "      <td>2.11</td>\n",
       "    </tr>\n",
       "    <tr>\n",
       "      <th>2</th>\n",
       "      <td>642</td>\n",
       "      <td>0.73</td>\n",
       "    </tr>\n",
       "    <tr>\n",
       "      <th>3</th>\n",
       "      <td>543</td>\n",
       "      <td>0.61</td>\n",
       "    </tr>\n",
       "    <tr>\n",
       "      <th>4</th>\n",
       "      <td>505</td>\n",
       "      <td>0.57</td>\n",
       "    </tr>\n",
       "    <tr>\n",
       "      <th>...</th>\n",
       "      <td>...</td>\n",
       "      <td>...</td>\n",
       "    </tr>\n",
       "    <tr>\n",
       "      <th>7034</th>\n",
       "      <td>1</td>\n",
       "      <td>0.00</td>\n",
       "    </tr>\n",
       "    <tr>\n",
       "      <th>4746</th>\n",
       "      <td>1</td>\n",
       "      <td>0.00</td>\n",
       "    </tr>\n",
       "    <tr>\n",
       "      <th>12158</th>\n",
       "      <td>1</td>\n",
       "      <td>0.00</td>\n",
       "    </tr>\n",
       "    <tr>\n",
       "      <th>3800</th>\n",
       "      <td>1</td>\n",
       "      <td>0.00</td>\n",
       "    </tr>\n",
       "    <tr>\n",
       "      <th>8059</th>\n",
       "      <td>1</td>\n",
       "      <td>0.00</td>\n",
       "    </tr>\n",
       "  </tbody>\n",
       "</table>\n",
       "<p>8096 rows × 2 columns</p>\n",
       "</div>"
      ],
      "text/plain": [
       "                  Horas Jugadas  Porcentaje\n",
       "playtime_forever                           \n",
       "0                         28414       32.18\n",
       "1                          1861        2.11\n",
       "2                           642        0.73\n",
       "3                           543        0.61\n",
       "4                           505        0.57\n",
       "...                         ...         ...\n",
       "7034                          1        0.00\n",
       "4746                          1        0.00\n",
       "12158                         1        0.00\n",
       "3800                          1        0.00\n",
       "8059                          1        0.00\n",
       "\n",
       "[8096 rows x 2 columns]"
      ]
     },
     "execution_count": 79,
     "metadata": {},
     "output_type": "execute_result"
    }
   ],
   "source": [
    "# Distribución de la registros por recomend (True,False)\n",
    "recomendado = df_DB[\"playtime_forever\"].value_counts()\n",
    "porcentaje = 100*df_DB[\"playtime_forever\"].value_counts(normalize=True)\n",
    "pd.DataFrame({\"Horas Jugadas\":recomendado, \"Porcentaje\":porcentaje.round(2)})"
   ]
  },
  {
   "cell_type": "markdown",
   "metadata": {},
   "source": [
    "### Grabación del dataframe con el archivo para la API en formato csv"
   ]
  },
  {
   "cell_type": "code",
   "execution_count": 80,
   "metadata": {},
   "outputs": [],
   "source": [
    "df_DB.to_csv(\"../data/aui_api.csv\", index=False)"
   ]
  }
 ],
 "metadata": {
  "kernelspec": {
   "display_name": "Python 3",
   "language": "python",
   "name": "python3"
  },
  "language_info": {
   "codemirror_mode": {
    "name": "ipython",
    "version": 3
   },
   "file_extension": ".py",
   "mimetype": "text/x-python",
   "name": "python",
   "nbconvert_exporter": "python",
   "pygments_lexer": "ipython3",
   "version": "3.11.5"
  },
  "orig_nbformat": 4
 },
 "nbformat": 4,
 "nbformat_minor": 2
}
